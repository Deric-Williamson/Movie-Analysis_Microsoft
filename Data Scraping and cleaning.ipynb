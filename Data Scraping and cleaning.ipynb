{
 "cells": [
  {
   "cell_type": "code",
   "execution_count": 1,
   "metadata": {},
   "outputs": [],
   "source": [
    "import requests\n",
    "import pandas as pd"
   ]
  },
  {
   "cell_type": "code",
   "execution_count": 2,
   "metadata": {},
   "outputs": [],
   "source": [
    "def get_top_movies_per_month(year_list):\n",
    "    # scapes every top movies of every month for every year in argument list\n",
    "        frames = []\n",
    "        \n",
    "        for year in year_list:\n",
    "            for month in range(1,13):\n",
    "                url = 'https://www.the-numbers.com/movies/report/All/All/All/All/All/All/All/All/All/None/None/{}/{}/{}/{}/'\\\n",
    "                'None/None/None/None?show-release-date=On&view-order-by=domestic-box-office&view-order-direction=desc&show-'\\\n",
    "                'domestic-box-office=On&show-genre=On'.format(year, year, month, month)\n",
    "                \n",
    "                html_page = requests.get(url)\n",
    "                frames.append(pd.read_html(html_page.text, index_col=None)[0])\n",
    "                \n",
    "        return pd.concat(frames)\n",
    "    \n",
    "    \n",
    "def no_char(col):\n",
    "    # enter dataframe column to return string of the column back w/o '$' and ','.\n",
    "    df1 = col\n",
    "   \n",
    "    df1 = df1.str.replace('$', '')\n",
    "    df1 = df1.str.replace(',', '')\n",
    "    \n",
    "    return df1"
   ]
  },
  {
   "cell_type": "code",
   "execution_count": null,
   "metadata": {
    "scrolled": false
   },
   "outputs": [],
   "source": [
    "# create a list of years to scrape\n",
    "year_list = [2020, 2019, 2018, 2017, 2016]\n",
    "\n",
    "#creates a dataframe of scraped data\n",
    "df = get_top_movies_per_month(year_list)"
   ]
  },
  {
   "cell_type": "code",
   "execution_count": null,
   "metadata": {},
   "outputs": [],
   "source": [
    "#renames column and limits data to movies that made at least a dollar\n",
    "df = df.rename(columns={\"DomesticBox Office\":\"DomesticBox_Office\"})\n",
    "df = df[df.DomesticBox_Office != \"$0\" ]\n",
    "\n",
    "#takes the '$' and ',' out of the string. Example: \"$1,200,000\" to \"12000000\"\n",
    "df[\"DomesticBox_Office\"] = no_char(df[\"DomesticBox_Office\"])\n",
    "\n",
    "#because there isn't any missing values in DomesticBox_office, we can immediatly change column to int\n",
    "df['DomesticBox_Office'] = df['DomesticBox_Office'].astype(int)\n",
    "\n",
    "#filling nans in 'Genre' column to \"other\" \n",
    "df['Genre'] = df['Genre'].fillna(\"Other\")\n",
    "\n",
    "#sort rows by DomesticBox_Office values\n",
    "df = df.sort_values(\"DomesticBox_Office\", ascending=False)\n",
    "\n",
    "#reset index based of rank\n",
    "df = df.reset_index()\n",
    "\n",
    "#convert 'Released' column to Datetime to sparse out new columns 'Month' and 'year'\n",
    "df['Released'] = pd.to_datetime(df['Released'])\n",
    "df['Month'] = df['Released'].dt.month\n",
    "df['Year'] = df['Released'].dt.year\n",
    "\n",
    "#dropping unnecessary columns\n",
    "df = df.drop(\"Released\", axis=1)\n",
    "df = df.drop(\"Unnamed: 0\", axis=1)\n",
    "df = df.drop(\"index\", axis=1)"
   ]
  },
  {
   "cell_type": "code",
   "execution_count": null,
   "metadata": {},
   "outputs": [],
   "source": [
    "#exports the cleaned table to a .csv file\n",
    "#also makes for a nice save point for future work\n",
    "df.to_csv('Cleaned_movie_data.csv')"
   ]
  },
  {
   "cell_type": "code",
   "execution_count": null,
   "metadata": {},
   "outputs": [],
   "source": [
    "df"
   ]
  }
 ],
 "metadata": {
  "kernelspec": {
   "display_name": "Python 3",
   "language": "python",
   "name": "python3"
  },
  "language_info": {
   "codemirror_mode": {
    "name": "ipython",
    "version": 3
   },
   "file_extension": ".py",
   "mimetype": "text/x-python",
   "name": "python",
   "nbconvert_exporter": "python",
   "pygments_lexer": "ipython3",
   "version": "3.6.9"
  }
 },
 "nbformat": 4,
 "nbformat_minor": 4
}
