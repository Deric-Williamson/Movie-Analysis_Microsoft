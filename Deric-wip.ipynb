{
 "cells": [
  {
   "cell_type": "code",
   "execution_count": 82,
   "metadata": {},
   "outputs": [],
   "source": [
    "import requests\n",
    "import time\n",
    "import json\n",
    "import pandas as pd\n",
    "import numpy as np\n",
    "import seaborn as sns\n",
    "import matplotlib.pyplot as plt\n",
    "\n",
    "%matplotlib inline"
   ]
  },
  {
   "cell_type": "code",
   "execution_count": 2,
   "metadata": {},
   "outputs": [],
   "source": [
    "def get_top_movies_per_month(year_list):\n",
    "        #yearlist = [2020,2019,2040]\n",
    "        frames = []\n",
    "        \n",
    "        for year in year_list:\n",
    "            for month in range(1,13):\n",
    "                url = 'https://www.the-numbers.com/movies/report/All/All/All/All/All/All/All/All/All/None/None/{}/{}/{}/{}/None/None/None/None?show-release-date=On&view-order-by=domestic-box-office&view-order-direction=desc&show-domestic-box-office=On&show-genre=On'.format(year, year, month, month)\n",
    "                html_page = requests.get(url)\n",
    "                #frames.append(pd.read_html(html_page.text, index_col=0)[0])\n",
    "                #frames.append(pd.read_html(html_page.text)[0])\n",
    "                frames.append(pd.read_html(html_page.text, index_col=None)[0])\n",
    "                \n",
    "        return pd.concat(frames)"
   ]
  },
  {
   "cell_type": "code",
   "execution_count": 3,
   "metadata": {},
   "outputs": [],
   "source": [
    "def no_char(col):\n",
    "    # enter dataframe column to return string of the column back w/o '$' and ','.\n",
    "    df1 = col\n",
    "   \n",
    "    df1 = df1.str.replace('$', '')\n",
    "    df1 = df1.str.replace(',', '')\n",
    "    \n",
    "    return df1"
   ]
  },
  {
   "cell_type": "code",
   "execution_count": 4,
   "metadata": {
    "scrolled": false
   },
   "outputs": [],
   "source": [
    "# create a list of years to scrape\n",
    "year_list = [2020, 2019, 2018, 2017, 2016]\n",
    "\n",
    "#creates a dataframe of scraped data\n",
    "df = get_top_movies_per_month(year_list)"
   ]
  },
  {
   "cell_type": "code",
   "execution_count": 5,
   "metadata": {},
   "outputs": [],
   "source": [
    "#renames column and limits data to movies that made at least a dollar\n",
    "df = df.rename(columns={\"DomesticBox Office\":\"DomesticBox_Office\"})\n",
    "df = df[df.DomesticBox_Office != \"$0\" ]\n",
    "\n",
    "#takes the '$' and ',' out of the string. Example: \"$1,200,000\" to \"12000000\"\n",
    "df[\"DomesticBox_Office\"] = no_char(df[\"DomesticBox_Office\"])\n",
    "\n",
    "#because there isn't any missing values in DomesticBox_office, we can immediatly change column to int\n",
    "df['DomesticBox_Office'] = df['DomesticBox_Office'].astype(int)\n",
    "\n",
    "#sort rows by DomesticBox_Office values\n",
    "df = df.sort_values(\"DomesticBox_Office\", ascending=False)\n",
    "\n",
    "#reset index based of rank\n",
    "df = df.reset_index()\n",
    "\n",
    "#convert 'Released' column to Datetime to sparse out new columns 'Month' and 'year'\n",
    "df['Released'] = pd.to_datetime(df['Released'])\n",
    "df['Month'] = df['Released'].dt.month\n",
    "df['Year'] = df['Released'].dt.year\n",
    "\n",
    "#dropping unneccerary columns\n",
    "df = df.drop(\"Released\", axis=1)\n",
    "df = df.drop(\"Unnamed: 0\", axis=1)\n",
    "df = df.drop(\"index\", axis=1)"
   ]
  },
  {
   "cell_type": "code",
   "execution_count": 8,
   "metadata": {},
   "outputs": [],
   "source": [
    "#exports the cleaned table to a .csv file\n",
    "#also makes for a nice save point for future work\n",
    "df.to_csv('Cleaned_movie_data.csv')"
   ]
  },
  {
   "cell_type": "code",
   "execution_count": 2,
   "metadata": {},
   "outputs": [],
   "source": [
    "# converting .csv to dataframe for future work\n",
    "df = pd.read_csv('Cleaned_movie_data.csv', index_col = 0)"
   ]
  },
  {
   "cell_type": "markdown",
   "metadata": {},
   "source": [
    "Everything below this isn't included, I'm not ready to delete code quite yet, \n",
    "if you want to delete on your branch, that is more than ok!\n",
    "\n",
    "=======================================================================\n",
    "\n",
    "=======================================================================\n",
    "\n",
    "=======================================================================\n",
    "\n",
    "========================================================================\n",
    "\n",
    "========================================================================\n",
    "\n"
   ]
  },
  {
   "cell_type": "code",
   "execution_count": 3,
   "metadata": {},
   "outputs": [],
   "source": [
    "#need to add this to data cleaning.....\n",
    "#Populate Genre nan values to \"Other\"\n",
    "df['Genre'] = df['Genre'].fillna(\"Other\")"
   ]
  },
  {
   "cell_type": "code",
   "execution_count": 4,
   "metadata": {},
   "outputs": [
    {
     "name": "stdout",
     "output_type": "stream",
     "text": [
      "17463002.053007517\n",
      "205525.5\n",
      "59521562.78803628\n"
     ]
    }
   ],
   "source": [
    "print(df['DomesticBox_Office'].mean())\n",
    "print(df['DomesticBox_Office'].median())\n",
    "print(df['DomesticBox_Office'].std())"
   ]
  },
  {
   "cell_type": "code",
   "execution_count": 5,
   "metadata": {
    "scrolled": true
   },
   "outputs": [
    {
     "data": {
      "text/html": [
       "<div>\n",
       "<style scoped>\n",
       "    .dataframe tbody tr th:only-of-type {\n",
       "        vertical-align: middle;\n",
       "    }\n",
       "\n",
       "    .dataframe tbody tr th {\n",
       "        vertical-align: top;\n",
       "    }\n",
       "\n",
       "    .dataframe thead th {\n",
       "        text-align: right;\n",
       "    }\n",
       "</style>\n",
       "<table border=\"1\" class=\"dataframe\">\n",
       "  <thead>\n",
       "    <tr style=\"text-align: right;\">\n",
       "      <th></th>\n",
       "      <th>Title</th>\n",
       "      <th>Genre</th>\n",
       "      <th>DomesticBox_Office</th>\n",
       "      <th>Month</th>\n",
       "      <th>Year</th>\n",
       "    </tr>\n",
       "  </thead>\n",
       "  <tbody>\n",
       "    <tr>\n",
       "      <th>0</th>\n",
       "      <td>Avengers: Endgame</td>\n",
       "      <td>Action</td>\n",
       "      <td>858373000</td>\n",
       "      <td>4</td>\n",
       "      <td>2019</td>\n",
       "    </tr>\n",
       "    <tr>\n",
       "      <th>1</th>\n",
       "      <td>Black Panther</td>\n",
       "      <td>Action</td>\n",
       "      <td>700059566</td>\n",
       "      <td>2</td>\n",
       "      <td>2018</td>\n",
       "    </tr>\n",
       "    <tr>\n",
       "      <th>2</th>\n",
       "      <td>Avengers: Infinity War</td>\n",
       "      <td>Action</td>\n",
       "      <td>678815482</td>\n",
       "      <td>4</td>\n",
       "      <td>2018</td>\n",
       "    </tr>\n",
       "    <tr>\n",
       "      <th>3</th>\n",
       "      <td>Star Wars Ep. VIII: The Last Jedi</td>\n",
       "      <td>Adventure</td>\n",
       "      <td>620181382</td>\n",
       "      <td>12</td>\n",
       "      <td>2017</td>\n",
       "    </tr>\n",
       "    <tr>\n",
       "      <th>4</th>\n",
       "      <td>Incredibles 2</td>\n",
       "      <td>Adventure</td>\n",
       "      <td>608581744</td>\n",
       "      <td>6</td>\n",
       "      <td>2018</td>\n",
       "    </tr>\n",
       "    <tr>\n",
       "      <th>...</th>\n",
       "      <td>...</td>\n",
       "      <td>...</td>\n",
       "      <td>...</td>\n",
       "      <td>...</td>\n",
       "      <td>...</td>\n",
       "    </tr>\n",
       "    <tr>\n",
       "      <th>2655</th>\n",
       "      <td>Mobile Homes</td>\n",
       "      <td>Drama</td>\n",
       "      <td>449</td>\n",
       "      <td>4</td>\n",
       "      <td>2018</td>\n",
       "    </tr>\n",
       "    <tr>\n",
       "      <th>2656</th>\n",
       "      <td>2:22</td>\n",
       "      <td>Thriller/Suspense</td>\n",
       "      <td>422</td>\n",
       "      <td>6</td>\n",
       "      <td>2017</td>\n",
       "    </tr>\n",
       "    <tr>\n",
       "      <th>2657</th>\n",
       "      <td>Des nouvelles de la planÃ¨te Mars</td>\n",
       "      <td>Comedy</td>\n",
       "      <td>310</td>\n",
       "      <td>7</td>\n",
       "      <td>2016</td>\n",
       "    </tr>\n",
       "    <tr>\n",
       "      <th>2658</th>\n",
       "      <td>Satanic</td>\n",
       "      <td>Horror</td>\n",
       "      <td>252</td>\n",
       "      <td>7</td>\n",
       "      <td>2016</td>\n",
       "    </tr>\n",
       "    <tr>\n",
       "      <th>2659</th>\n",
       "      <td>(M)uchenik</td>\n",
       "      <td>Drama</td>\n",
       "      <td>138</td>\n",
       "      <td>4</td>\n",
       "      <td>2017</td>\n",
       "    </tr>\n",
       "  </tbody>\n",
       "</table>\n",
       "<p>2660 rows × 5 columns</p>\n",
       "</div>"
      ],
      "text/plain": [
       "                                  Title              Genre  \\\n",
       "0                     Avengers: Endgame             Action   \n",
       "1                         Black Panther             Action   \n",
       "2                Avengers: Infinity War             Action   \n",
       "3     Star Wars Ep. VIII: The Last Jedi          Adventure   \n",
       "4                         Incredibles 2          Adventure   \n",
       "...                                 ...                ...   \n",
       "2655                       Mobile Homes              Drama   \n",
       "2656                               2:22  Thriller/Suspense   \n",
       "2657  Des nouvelles de la planÃ¨te Mars             Comedy   \n",
       "2658                            Satanic             Horror   \n",
       "2659                         (M)uchenik              Drama   \n",
       "\n",
       "      DomesticBox_Office  Month  Year  \n",
       "0              858373000      4  2019  \n",
       "1              700059566      2  2018  \n",
       "2              678815482      4  2018  \n",
       "3              620181382     12  2017  \n",
       "4              608581744      6  2018  \n",
       "...                  ...    ...   ...  \n",
       "2655                 449      4  2018  \n",
       "2656                 422      6  2017  \n",
       "2657                 310      7  2016  \n",
       "2658                 252      7  2016  \n",
       "2659                 138      4  2017  \n",
       "\n",
       "[2660 rows x 5 columns]"
      ]
     },
     "execution_count": 5,
     "metadata": {},
     "output_type": "execute_result"
    }
   ],
   "source": [
    "df"
   ]
  },
  {
   "cell_type": "code",
   "execution_count": 29,
   "metadata": {
    "scrolled": true
   },
   "outputs": [
    {
     "name": "stdout",
     "output_type": "stream",
     "text": [
      "<class 'pandas.core.frame.DataFrame'>\n",
      "Int64Index: 2660 entries, 0 to 2659\n",
      "Data columns (total 5 columns):\n",
      "Title                 2660 non-null object\n",
      "Genre                 2660 non-null object\n",
      "DomesticBox_Office    2660 non-null int64\n",
      "Month                 2660 non-null int64\n",
      "Year                  2660 non-null int64\n",
      "dtypes: int64(3), object(2)\n",
      "memory usage: 124.7+ KB\n"
     ]
    }
   ],
   "source": []
  },
  {
   "cell_type": "code",
   "execution_count": 6,
   "metadata": {},
   "outputs": [
    {
     "data": {
      "text/plain": [
       "array(['Action', 'Adventure', 'Musical', 'Thriller/Suspense', 'Horror',\n",
       "       'Drama', 'Romantic Comedy', 'Comedy', 'Western', 'Black Comedy',\n",
       "       'Concert/Performance', 'Documentary', 'Multiple Genres', 'Other'],\n",
       "      dtype=object)"
      ]
     },
     "execution_count": 6,
     "metadata": {},
     "output_type": "execute_result"
    }
   ],
   "source": [
    "df['Genre'].unique()"
   ]
  },
  {
   "cell_type": "code",
   "execution_count": 11,
   "metadata": {
    "scrolled": false
   },
   "outputs": [
    {
     "data": {
      "text/html": [
       "<div>\n",
       "<style scoped>\n",
       "    .dataframe tbody tr th:only-of-type {\n",
       "        vertical-align: middle;\n",
       "    }\n",
       "\n",
       "    .dataframe tbody tr th {\n",
       "        vertical-align: top;\n",
       "    }\n",
       "\n",
       "    .dataframe thead th {\n",
       "        text-align: right;\n",
       "    }\n",
       "</style>\n",
       "<table border=\"1\" class=\"dataframe\">\n",
       "  <thead>\n",
       "    <tr style=\"text-align: right;\">\n",
       "      <th></th>\n",
       "      <th>DomesticBox_Office</th>\n",
       "      <th>Month</th>\n",
       "      <th>Year</th>\n",
       "    </tr>\n",
       "    <tr>\n",
       "      <th>Genre</th>\n",
       "      <th></th>\n",
       "      <th></th>\n",
       "      <th></th>\n",
       "    </tr>\n",
       "  </thead>\n",
       "  <tbody>\n",
       "    <tr>\n",
       "      <th>Action</th>\n",
       "      <td>13098810289</td>\n",
       "      <td>1387</td>\n",
       "      <td>453954</td>\n",
       "    </tr>\n",
       "    <tr>\n",
       "      <th>Adventure</th>\n",
       "      <td>13841613956</td>\n",
       "      <td>982</td>\n",
       "      <td>316781</td>\n",
       "    </tr>\n",
       "    <tr>\n",
       "      <th>Black Comedy</th>\n",
       "      <td>399532667</td>\n",
       "      <td>231</td>\n",
       "      <td>66587</td>\n",
       "    </tr>\n",
       "    <tr>\n",
       "      <th>Comedy</th>\n",
       "      <td>3821228554</td>\n",
       "      <td>1780</td>\n",
       "      <td>570962</td>\n",
       "    </tr>\n",
       "    <tr>\n",
       "      <th>Concert/Performance</th>\n",
       "      <td>37029990</td>\n",
       "      <td>113</td>\n",
       "      <td>38346</td>\n",
       "    </tr>\n",
       "    <tr>\n",
       "      <th>Documentary</th>\n",
       "      <td>287161161</td>\n",
       "      <td>3420</td>\n",
       "      <td>1032995</td>\n",
       "    </tr>\n",
       "    <tr>\n",
       "      <th>Drama</th>\n",
       "      <td>5672882860</td>\n",
       "      <td>5804</td>\n",
       "      <td>1819869</td>\n",
       "    </tr>\n",
       "    <tr>\n",
       "      <th>Horror</th>\n",
       "      <td>3334184821</td>\n",
       "      <td>896</td>\n",
       "      <td>292605</td>\n",
       "    </tr>\n",
       "    <tr>\n",
       "      <th>Multiple Genres</th>\n",
       "      <td>19240886</td>\n",
       "      <td>67</td>\n",
       "      <td>30264</td>\n",
       "    </tr>\n",
       "    <tr>\n",
       "      <th>Musical</th>\n",
       "      <td>1618581179</td>\n",
       "      <td>184</td>\n",
       "      <td>42365</td>\n",
       "    </tr>\n",
       "    <tr>\n",
       "      <th>Other</th>\n",
       "      <td>432123</td>\n",
       "      <td>41</td>\n",
       "      <td>12115</td>\n",
       "    </tr>\n",
       "    <tr>\n",
       "      <th>Romantic Comedy</th>\n",
       "      <td>666921215</td>\n",
       "      <td>470</td>\n",
       "      <td>165438</td>\n",
       "    </tr>\n",
       "    <tr>\n",
       "      <th>Thriller/Suspense</th>\n",
       "      <td>3434857846</td>\n",
       "      <td>1543</td>\n",
       "      <td>478223</td>\n",
       "    </tr>\n",
       "    <tr>\n",
       "      <th>Western</th>\n",
       "      <td>219107914</td>\n",
       "      <td>160</td>\n",
       "      <td>46399</td>\n",
       "    </tr>\n",
       "  </tbody>\n",
       "</table>\n",
       "</div>"
      ],
      "text/plain": [
       "                     DomesticBox_Office  Month     Year\n",
       "Genre                                                  \n",
       "Action                      13098810289   1387   453954\n",
       "Adventure                   13841613956    982   316781\n",
       "Black Comedy                  399532667    231    66587\n",
       "Comedy                       3821228554   1780   570962\n",
       "Concert/Performance            37029990    113    38346\n",
       "Documentary                   287161161   3420  1032995\n",
       "Drama                        5672882860   5804  1819869\n",
       "Horror                       3334184821    896   292605\n",
       "Multiple Genres                19240886     67    30264\n",
       "Musical                      1618581179    184    42365\n",
       "Other                            432123     41    12115\n",
       "Romantic Comedy               666921215    470   165438\n",
       "Thriller/Suspense            3434857846   1543   478223\n",
       "Western                       219107914    160    46399"
      ]
     },
     "execution_count": 11,
     "metadata": {},
     "output_type": "execute_result"
    }
   ],
   "source": [
    "df.groupby('Genre').sum()"
   ]
  },
  {
   "cell_type": "code",
   "execution_count": 115,
   "metadata": {},
   "outputs": [
    {
     "data": {
      "text/plain": [
       "Month  Year\n",
       "1      2016     497960814\n",
       "       2017     417404366\n",
       "       2018     347983706\n",
       "       2019     386207536\n",
       "       2020     435214731\n",
       "2      2016     656088752\n",
       "       2017     719265525\n",
       "       2018    1115830932\n",
       "       2019     600730613\n",
       "       2020     473870104\n",
       "3      2016    1104033652\n",
       "       2017    1366035185\n",
       "       2018     783190284\n",
       "       2019     972346905\n",
       "       2020     103129373\n",
       "4      2016     693021106\n",
       "       2017     505937888\n",
       "       2018    1217079217\n",
       "       2019    1276737634\n",
       "       2020        197974\n",
       "5      2016     916257734\n",
       "       2017     856289974\n",
       "       2018     815125318\n",
       "       2019    1150203454\n",
       "       2020       1940924\n",
       "6      2016    1177362804\n",
       "       2017    1468145069\n",
       "       2018    1498076697\n",
       "       2019     987935570\n",
       "       2020       2115685\n",
       "7      2016    1491721426\n",
       "       2017    1011669426\n",
       "       2018    1049962541\n",
       "       2019    1195479547\n",
       "       2020       4285373\n",
       "8      2016     826436695\n",
       "       2017     421634795\n",
       "       2018     736668098\n",
       "       2019     710934263\n",
       "       2020      58420716\n",
       "9      2016     625107043\n",
       "       2017     713646987\n",
       "       2018     598665308\n",
       "       2019     615678614\n",
       "       2020      64388938\n",
       "10     2016     492649250\n",
       "       2017     441407491\n",
       "       2018     788715860\n",
       "       2019     851184040\n",
       "       2020      15178337\n",
       "11     2016    1299997736\n",
       "       2017    1410576731\n",
       "       2018    1384414052\n",
       "       2019    1239053195\n",
       "12     2016    1576779700\n",
       "       2017    1752143656\n",
       "       2018    1171567148\n",
       "       2019    1357498969\n",
       "Name: DomesticBox_Office, dtype: int64"
      ]
     },
     "execution_count": 115,
     "metadata": {},
     "output_type": "execute_result"
    }
   ],
   "source": [
    "df.groupby(['Month','Year'])['DomesticBox_Office'].sum()"
   ]
  },
  {
   "cell_type": "code",
   "execution_count": null,
   "metadata": {},
   "outputs": [],
   "source": []
  },
  {
   "cell_type": "code",
   "execution_count": null,
   "metadata": {},
   "outputs": [],
   "source": []
  },
  {
   "cell_type": "code",
   "execution_count": 6,
   "metadata": {},
   "outputs": [],
   "source": [
    "x = df['Genre'].unique()"
   ]
  },
  {
   "cell_type": "code",
   "execution_count": 12,
   "metadata": {},
   "outputs": [],
   "source": [
    "data = df.groupby('Genre')['DomesticBox_Office'].sum()"
   ]
  },
  {
   "cell_type": "code",
   "execution_count": 15,
   "metadata": {
    "scrolled": false
   },
   "outputs": [
    {
     "data": {
      "image/png": "[encoded data removed]",
      "text/plain": [
       "<Figure size 1440x432 with 1 Axes>"
      ]
     },
     "metadata": {
      "needs_background": "light"
     },
     "output_type": "display_data"
    }
   ],
   "source": [
    "x = df['Genre'].unique()\n",
    "data = df.groupby('Genre')['DomesticBox_Office'].sum()\n",
    "fig = plt.figure(figsize=(20,6))\n",
    "\n",
    "plt.title(\"Total Box-Office Sales per Genre\")\n",
    "plt.xlabel(\"Genres\")\n",
    "plt.ylabel(\"Box-Office Sales (LE7)\")\n",
    "\n",
    "\n",
    "plt.bar(x,data);\n",
    "\n",
    "plt.show()\n"
   ]
  },
  {
   "cell_type": "code",
   "execution_count": 14,
   "metadata": {
    "scrolled": false
   },
   "outputs": [
    {
     "data": {
      "image/png": "[encoded data removed]",
      "text/plain": [
       "<Figure size 1440x432 with 1 Axes>"
      ]
     },
     "metadata": {
      "needs_background": "light"
     },
     "output_type": "display_data"
    }
   ],
   "source": [
    "x = df['Genre'].unique()\n",
    "data = df.groupby('Genre')['DomesticBox_Office'].mean()\n",
    "fig = plt.figure(figsize=(20,6))\n",
    "\n",
    "plt.title(\"Average Box-Office Sales per Genre\")\n",
    "plt.xlabel(\"Genres\")\n",
    "plt.ylabel(\"Box-Office Sales (LE7)\")\n",
    "\n",
    "\n",
    "plt.bar(x,data);\n",
    "\n",
    "plt.show()"
   ]
  },
  {
   "cell_type": "code",
   "execution_count": 16,
   "metadata": {},
   "outputs": [
    {
     "data": {
      "image/png": "[encoded data removed]",
      "text/plain": [
       "<Figure size 1440x432 with 1 Axes>"
      ]
     },
     "metadata": {
      "needs_background": "light"
     },
     "output_type": "display_data"
    }
   ],
   "source": [
    "x = df['Genre'].unique()\n",
    "data = df.groupby('Genre')['DomesticBox_Office'].median()\n",
    "fig = plt.figure(figsize=(20,6))\n",
    "\n",
    "plt.title(\"Median Box-Office Sales per Genre\")\n",
    "plt.xlabel(\"Genres\")\n",
    "plt.ylabel(\"Box-Office Sales (LE7)\")\n",
    "\n",
    "\n",
    "plt.bar(x,data);\n",
    "\n",
    "plt.show()"
   ]
  },
  {
   "cell_type": "code",
   "execution_count": 97,
   "metadata": {},
   "outputs": [],
   "source": [
    "data2 = df.groupby(['Genre','Month'])[\"DomesticBox_Office\"].mean()"
   ]
  },
  {
   "cell_type": "code",
   "execution_count": 98,
   "metadata": {
    "scrolled": true
   },
   "outputs": [
    {
     "data": {
      "text/plain": [
       "Genre    Month\n",
       "Action   1        1.914194e+07\n",
       "         2        7.773837e+07\n",
       "         3        6.802249e+07\n",
       "         4        1.113242e+08\n",
       "         5        1.115868e+08\n",
       "                      ...     \n",
       "Western  8        3.885458e+07\n",
       "         9        1.941475e+07\n",
       "         10       5.364700e+04\n",
       "         11       1.029800e+04\n",
       "         12       1.491348e+07\n",
       "Name: DomesticBox_Office, Length: 149, dtype: float64"
      ]
     },
     "execution_count": 98,
     "metadata": {},
     "output_type": "execute_result"
    }
   ],
   "source": [
    "data2"
   ]
  },
  {
   "cell_type": "code",
   "execution_count": 102,
   "metadata": {},
   "outputs": [
    {
     "data": {
      "text/plain": [
       "111324169.84210527"
      ]
     },
     "execution_count": 102,
     "metadata": {},
     "output_type": "execute_result"
    }
   ],
   "source": [
    "data2[\"Action\"][4]"
   ]
  },
  {
   "cell_type": "code",
   "execution_count": 109,
   "metadata": {
    "scrolled": true
   },
   "outputs": [
    {
     "data": {
      "text/plain": [
       "Month\n",
       "3       7888.0\n",
       "5      70088.0\n",
       "6      25488.0\n",
       "7     139593.0\n",
       "9       9345.0\n",
       "11    179721.0\n",
       "Name: DomesticBox_Office, dtype: float64"
      ]
     },
     "execution_count": 109,
     "metadata": {},
     "output_type": "execute_result"
    }
   ],
   "source": [
    "data2['Other']"
   ]
  },
  {
   "cell_type": "code",
   "execution_count": 113,
   "metadata": {},
   "outputs": [
    {
     "data": {
      "text/plain": [
       "7888.0"
      ]
     },
     "execution_count": 113,
     "metadata": {},
     "output_type": "execute_result"
    }
   ],
   "source": [
    "data2['Other'][3]"
   ]
  },
  {
   "cell_type": "code",
   "execution_count": 62,
   "metadata": {},
   "outputs": [
    {
     "data": {
      "text/plain": [
       "19141940.53846154"
      ]
     },
     "execution_count": 62,
     "metadata": {},
     "output_type": "execute_result"
    }
   ],
   "source": [
    "data2[1][0]"
   ]
  },
  {
   "cell_type": "code",
   "execution_count": null,
   "metadata": {},
   "outputs": [],
   "source": []
  },
  {
   "cell_type": "code",
   "execution_count": 53,
   "metadata": {},
   "outputs": [
    {
     "name": "stdout",
     "output_type": "stream",
     "text": [
      "0\n",
      "1\n",
      "2\n",
      "3\n",
      "4\n",
      "5\n",
      "6\n",
      "7\n",
      "8\n",
      "9\n",
      "10\n",
      "11\n",
      "12\n",
      "0\n",
      "1\n",
      "2\n",
      "3\n",
      "4\n",
      "5\n",
      "6\n",
      "7\n",
      "8\n",
      "9\n",
      "10\n",
      "0\n",
      "1\n",
      "2\n",
      "3\n",
      "4\n",
      "5\n",
      "6\n",
      "7\n",
      "8\n",
      "9\n",
      "10\n",
      "11\n",
      "12\n",
      "13\n",
      "0\n",
      "1\n",
      "2\n",
      "3\n",
      "4\n",
      "5\n",
      "6\n",
      "7\n",
      "8\n",
      "9\n",
      "10\n",
      "11\n",
      "12\n",
      "0\n",
      "1\n",
      "2\n",
      "3\n",
      "4\n",
      "5\n",
      "6\n",
      "7\n",
      "8\n",
      "9\n",
      "10\n",
      "0\n",
      "1\n",
      "2\n",
      "3\n",
      "4\n",
      "5\n",
      "6\n",
      "7\n",
      "8\n",
      "9\n",
      "10\n",
      "0\n",
      "1\n",
      "2\n",
      "3\n",
      "4\n",
      "5\n",
      "6\n",
      "7\n",
      "8\n",
      "9\n",
      "10\n",
      "11\n",
      "12\n",
      "0\n",
      "1\n",
      "2\n",
      "3\n",
      "4\n",
      "5\n",
      "6\n",
      "7\n",
      "8\n",
      "9\n",
      "10\n",
      "11\n",
      "0\n",
      "1\n",
      "2\n",
      "3\n",
      "4\n",
      "5\n",
      "6\n",
      "7\n",
      "8\n",
      "9\n",
      "10\n",
      "11\n",
      "12\n",
      "0\n",
      "1\n",
      "2\n",
      "3\n",
      "4\n",
      "5\n",
      "6\n",
      "7\n",
      "8\n",
      "9\n",
      "10\n",
      "11\n",
      "12\n",
      "0\n",
      "1\n",
      "2\n",
      "3\n",
      "4\n",
      "5\n",
      "6\n",
      "7\n",
      "8\n",
      "9\n",
      "10\n",
      "11\n",
      "12\n",
      "0\n",
      "1\n",
      "2\n",
      "3\n",
      "4\n",
      "5\n",
      "6\n",
      "7\n",
      "8\n",
      "9\n",
      "10\n",
      "11\n"
     ]
    }
   ],
   "source": [
    "action = []\n",
    "adventure = []\n",
    "blk_com = []\n",
    "com = []\n",
    "concert =[]\n",
    "Doc = []\n",
    "Drama = []\n",
    "Horror = []\n",
    "Multiple = []\n",
    "Musical =[]\n",
    "Romance_Com = []\n",
    "Thriller = []\n",
    "Wester = []\n",
    "\n",
    "\n",
    "for month in range(1, 13):\n",
    "    #print(month)\n",
    "    for data in range(len(data2[month])):\n",
    "        if data2[]\n",
    "        \n",
    "        \n",
    "\n",
    "        \n",
    "        \n",
    "#['Action', 'Adventure', 'Musical', 'Thriller/Suspense', 'Horror',\n",
    " #      'Drama', 'Romantic Comedy', 'Comedy', 'Western', 'Black Comedy',\n",
    " #      'Concert/Performance', 'Documentary', 'Multiple Genres', 'Other']\n",
    "        \n",
    "    \n",
    "    \n",
    "    \n"
   ]
  },
  {
   "cell_type": "code",
   "execution_count": null,
   "metadata": {},
   "outputs": [],
   "source": []
  },
  {
   "cell_type": "code",
   "execution_count": null,
   "metadata": {},
   "outputs": [],
   "source": []
  },
  {
   "cell_type": "code",
   "execution_count": null,
   "metadata": {},
   "outputs": [],
   "source": []
  },
  {
   "cell_type": "code",
   "execution_count": 22,
   "metadata": {},
   "outputs": [
    {
     "data": {
      "text/plain": [
       "Month\n",
       "1     185\n",
       "2     218\n",
       "3     277\n",
       "4     240\n",
       "5     200\n",
       "6     219\n",
       "7     189\n",
       "8     249\n",
       "9     285\n",
       "10    258\n",
       "11    188\n",
       "12    152\n",
       "Name: DomesticBox_Office, dtype: int64"
      ]
     },
     "execution_count": 22,
     "metadata": {},
     "output_type": "execute_result"
    }
   ],
   "source": [
    "data3 = df.groupby(['Month'])[\"DomesticBox_Office\"].count()\n",
    "data3"
   ]
  },
  {
   "cell_type": "code",
   "execution_count": 24,
   "metadata": {
    "scrolled": true
   },
   "outputs": [
    {
     "data": {
      "image/png": "[encoded data removed]",
      "text/plain": [
       "<Figure size 1440x432 with 1 Axes>"
      ]
     },
     "metadata": {
      "needs_background": "light"
     },
     "output_type": "display_data"
    }
   ],
   "source": [
    "x3 = df['Month'].unique()\n",
    "fig = plt.figure(figsize=(20,6))\n",
    "\n",
    "plt.title(\"movie count/month\")\n",
    "#plt.xlabel(\"Genres\")\n",
    "#plt.ylabel(\"Box-Office Sales (LE7)\")\n",
    "\n",
    "\n",
    "plt.bar(x3,data3);\n",
    "\n",
    "plt.show()"
   ]
  },
  {
   "cell_type": "code",
   "execution_count": null,
   "metadata": {},
   "outputs": [],
   "source": []
  },
  {
   "cell_type": "code",
   "execution_count": 46,
   "metadata": {},
   "outputs": [],
   "source": [
    "x2 = [data2[1], data2[2], data2[3],\n",
    "      data2[4], data2[5], data2[6],\n",
    "      data2[7], data2[8], data2[9],\n",
    "      data2[10], data2[11], data2[12]]"
   ]
  },
  {
   "cell_type": "code",
   "execution_count": null,
   "metadata": {},
   "outputs": [],
   "source": []
  },
  {
   "cell_type": "code",
   "execution_count": null,
   "metadata": {},
   "outputs": [],
   "source": []
  },
  {
   "cell_type": "code",
   "execution_count": null,
   "metadata": {},
   "outputs": [],
   "source": []
  },
  {
   "cell_type": "code",
   "execution_count": null,
   "metadata": {},
   "outputs": [],
   "source": []
  },
  {
   "cell_type": "code",
   "execution_count": null,
   "metadata": {},
   "outputs": [],
   "source": [
    "#extra functions that i dont want to delete yet.\n",
    "#=================================================\n",
    "#=================================================\n",
    "\n",
    "def get_col_mean(col):\n",
    "    #\"drops na to find avg. col is clean pandas str format\"\n",
    "    df1 = col\n",
    "    df1 = df1.dropna()\n",
    "    df1 = df1.astype(int)\n",
    "    \n",
    "    return str(int(df1.mean()))\n",
    "\n",
    "\n",
    "def get_col_median(col):\n",
    "    #\"drops na to find avg. col is clean pandas str format\"\n",
    "    df1 = col\n",
    "    df1 = df1.dropna()\n",
    "    df1 = df1.astype(int)\n",
    "    \n",
    "    return str(int(df1.median()))\n",
    "\n",
    "\n",
    "def get_keys(path):\n",
    "    #get .json file from local machine\n",
    "    with open(path) as f:\n",
    "        return json.load(f)\n",
    "    \n",
    "\n",
    "def get_movie_info(title, year, api_key):\n",
    "    #plug in title, year, apikey to return the full api of the selected movie.\n",
    "    #each api request requires the url and the params (at least the title or the movie id)\n",
    "    api_url = \"http://www.omdbapi.com/?apikey={}\".format(api_key)\n",
    "    params = {\n",
    "            't' : title,\n",
    "            'type': 'movie',\n",
    "            'y' : year\n",
    "            }\n",
    "    response = requests.get(api_url, params = params).json()\n",
    "    return response\n",
    "\n",
    "\n",
    "def get_movie_search(title, year, api_key):\n",
    "    api_url = \"http://www.omdbapi.com/?apikey={}\".format(api_key)\n",
    "    params = {\n",
    "            's' : title,\n",
    "            'type': 'movie',\n",
    "            'y' : year,\n",
    "            'plot' : 'full'\n",
    "            }\n",
    "    response = requests.get(api_url, params = params).json()\n",
    "    return response\n",
    "\n",
    "\n",
    "def get_release_data_list(df1, year, api_key):\n",
    "    release_month = []\n",
    "    genre_list = []\n",
    "    for i in range(1, 6):\n",
    "    # loop to find the first 20 releash dates\n",
    "        title = df1['Movie'][i]\n",
    "        \n",
    "        \n",
    "        try:\n",
    "            a = get_movie_info(title, 2020, api_key)\n",
    "            \n",
    "            month = a['Released']\n",
    "            genre = a['Genre'].split(',')\n",
    "            \n",
    "            release_month.append(month)\n",
    "            genre_list.append(genre)\n",
    "        except KeyError:\n",
    "            \n",
    "            try:\n",
    "                title_word_list = title.split()\n",
    "                title = \" \"\n",
    "                title = title.join(title_word_list[:2])\n",
    "\n",
    "                search = get_movie_search(title, year, api_key)\n",
    "                real_title = search['Search'][0]['Title']\n",
    "\n",
    "                a = get_movie_info(real_title, 2020, api_key)\n",
    "                \n",
    "                month = a['Released']\n",
    "                genre = a['Genre'].split(',')\n",
    "                \n",
    "                release_month.append(month)\n",
    "                genre_list.append(genre)\n",
    "                \n",
    "            except KeyError:\n",
    "                release_month.append(np.nan)\n",
    "    \n",
    "        time.sleep(.5)\n",
    "        \n",
    "    release_and_genre_list = [release_month, genre_list]\n",
    "        \n",
    "    return release_and_genre_list\n"
   ]
  },
  {
   "cell_type": "code",
   "execution_count": null,
   "metadata": {
    "scrolled": true
   },
   "outputs": [],
   "source": [
    "#trash code that i dont want to delete yet\n",
    "#=================================================\n",
    "#test two, replacing nan with median\n",
    "#just playing with data, nothing here meaningful at the moment. (trash code)\n",
    "\n",
    "#print(df['OpeningWeekendBox Office'].apply(['mean', 'median', 'std']))\n",
    "#df['OpeningWeekendBox Office'].hist()\n",
    "\n",
    "#print(df['DomesticBoxOffice'].apply(['mean', 'median', 'std']))\n",
    "#df['DomesticBoxOffice'].hist()"
   ]
  },
  {
   "cell_type": "code",
   "execution_count": null,
   "metadata": {},
   "outputs": [],
   "source": [
    "# need to change to a remote file location. \n",
    "keys = get_keys(\"/Users/Deric/Documents/Flatiron/phase_One/.secret/omdb_api.json\")\n",
    "api_key = keys['api_key']"
   ]
  },
  {
   "cell_type": "code",
   "execution_count": null,
   "metadata": {
    "scrolled": false
   },
   "outputs": [],
   "source": [
    "#this cell is just testing my function above. will delete later\n",
    "title = 'Birds of Prey'\n",
    "year = 2020\n",
    "\n",
    "get_movie_search(title, year, api_key)\n"
   ]
  },
  {
   "cell_type": "code",
   "execution_count": null,
   "metadata": {},
   "outputs": [],
   "source": [
    "# testing functions (will delete later)\n",
    "z = get_movie_search(title, year, api_key)\n",
    "z['Search'][0][\"Title\"]"
   ]
  },
  {
   "cell_type": "code",
   "execution_count": null,
   "metadata": {},
   "outputs": [],
   "source": [
    "# testing functions (will delete later)\n",
    "a = get_movie_info('Harley Quinn: Birds of Prey', year, api_key)\n",
    "a['Released']"
   ]
  },
  {
   "cell_type": "code",
   "execution_count": null,
   "metadata": {},
   "outputs": [],
   "source": [
    "# testing functions (will delete later)\n",
    "get_movie_info('Harley Quinn: Birds of Prey', year, api_key)"
   ]
  },
  {
   "cell_type": "code",
   "execution_count": null,
   "metadata": {
    "scrolled": true
   },
   "outputs": [],
   "source": [
    "# testing functions (will delete later)\n",
    "#this cell is just testing my function above.\n",
    "title = 'Bad Boys For Life'\n",
    "year = 2020\n",
    "\n",
    "a = get_movie_info(title, year, api_key)\n",
    "get_movie_info(title, year, api_key)"
   ]
  },
  {
   "cell_type": "code",
   "execution_count": null,
   "metadata": {},
   "outputs": [],
   "source": [
    "get_release_data_list(df,2020, api_key)\n",
    "a = get_release_data_list(df,2020, api_key)\n",
    "a[0]"
   ]
  }
 ],
 "metadata": {
  "kernelspec": {
   "display_name": "Python 3",
   "language": "python",
   "name": "python3"
  },
  "language_info": {
   "codemirror_mode": {
    "name": "ipython",
    "version": 3
   },
   "file_extension": ".py",
   "mimetype": "text/x-python",
   "name": "python",
   "nbconvert_exporter": "python",
   "pygments_lexer": "ipython3",
   "version": "3.6.9"
  }
 },
 "nbformat": 4,
 "nbformat_minor": 4
}
