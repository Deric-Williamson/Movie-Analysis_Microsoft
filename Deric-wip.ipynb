{
 "cells": [
  {
   "cell_type": "code",
   "execution_count": 1,
   "metadata": {},
   "outputs": [],
   "source": [
    "import requests\n",
    "import json\n",
    "import pandas as pd\n",
    "import matplotlib.pyplot as plt\n",
    "%matplotlib inline"
   ]
  },
  {
   "cell_type": "code",
   "execution_count": 2,
   "metadata": {},
   "outputs": [],
   "source": [
    "def get_top_movies(year):\n",
    "    # returns the top 400 movies from website by year as a dataframe\n",
    "    frames = []\n",
    "    offsets = [1 , 101, 201, 301]\n",
    "    for offset in offsets:\n",
    "        try:\n",
    "            url = 'https://www.the-numbers.com/box-office-records/domestic/all-movies/cumulative/released-in-{}/{}'.format(year, offset)\n",
    "            html_page = requests.get(url)\n",
    "            frames.append(pd.read_html(html_page.text, index_col=0)[1])\n",
    "        except IndexError:\n",
    "            break\n",
    "        \n",
    "    return pd.concat(frames)"
   ]
  },
  {
   "cell_type": "code",
   "execution_count": 3,
   "metadata": {},
   "outputs": [
    {
     "name": "stdout",
     "output_type": "stream",
     "text": [
      "<class 'pandas.core.frame.DataFrame'>\n",
      "Int64Index: 216 entries, 1 to 216\n",
      "Data columns (total 5 columns):\n",
      "Movie                       216 non-null object\n",
      "Distributor                 215 non-null object\n",
      "DomesticBoxOffice           216 non-null object\n",
      "OpeningWeekendBox Office    202 non-null object\n",
      "MaxTheaterCount             216 non-null int64\n",
      "dtypes: int64(1), object(4)\n",
      "memory usage: 10.1+ KB\n"
     ]
    },
    {
     "data": {
      "text/html": [
       "<div>\n",
       "<style scoped>\n",
       "    .dataframe tbody tr th:only-of-type {\n",
       "        vertical-align: middle;\n",
       "    }\n",
       "\n",
       "    .dataframe tbody tr th {\n",
       "        vertical-align: top;\n",
       "    }\n",
       "\n",
       "    .dataframe thead th {\n",
       "        text-align: right;\n",
       "    }\n",
       "</style>\n",
       "<table border=\"1\" class=\"dataframe\">\n",
       "  <thead>\n",
       "    <tr style=\"text-align: right;\">\n",
       "      <th></th>\n",
       "      <th>Movie</th>\n",
       "      <th>Distributor</th>\n",
       "      <th>DomesticBoxOffice</th>\n",
       "      <th>OpeningWeekendBox Office</th>\n",
       "      <th>MaxTheaterCount</th>\n",
       "    </tr>\n",
       "    <tr>\n",
       "      <th>Rank</th>\n",
       "      <th></th>\n",
       "      <th></th>\n",
       "      <th></th>\n",
       "      <th></th>\n",
       "      <th></th>\n",
       "    </tr>\n",
       "  </thead>\n",
       "  <tbody>\n",
       "    <tr>\n",
       "      <th>1</th>\n",
       "      <td>Bad Boys For Life</td>\n",
       "      <td>Sony Pict…</td>\n",
       "      <td>$204,417,855</td>\n",
       "      <td>$62,504,105</td>\n",
       "      <td>3775</td>\n",
       "    </tr>\n",
       "    <tr>\n",
       "      <th>2</th>\n",
       "      <td>Sonic The Hedgehog</td>\n",
       "      <td>Paramount…</td>\n",
       "      <td>$146,066,470</td>\n",
       "      <td>$58,018,348</td>\n",
       "      <td>4198</td>\n",
       "    </tr>\n",
       "    <tr>\n",
       "      <th>3</th>\n",
       "      <td>Birds of Prey (And the Fantabulous Emancipation…</td>\n",
       "      <td>Warner Bros.</td>\n",
       "      <td>$84,158,461</td>\n",
       "      <td>$33,010,017</td>\n",
       "      <td>4236</td>\n",
       "    </tr>\n",
       "    <tr>\n",
       "      <th>4</th>\n",
       "      <td>Dolittle</td>\n",
       "      <td>Universal</td>\n",
       "      <td>$77,047,065</td>\n",
       "      <td>$21,844,045</td>\n",
       "      <td>4155</td>\n",
       "    </tr>\n",
       "    <tr>\n",
       "      <th>5</th>\n",
       "      <td>The Invisible Man</td>\n",
       "      <td>Universal</td>\n",
       "      <td>$64,914,050</td>\n",
       "      <td>$28,205,665</td>\n",
       "      <td>3636</td>\n",
       "    </tr>\n",
       "    <tr>\n",
       "      <th>...</th>\n",
       "      <td>...</td>\n",
       "      <td>...</td>\n",
       "      <td>...</td>\n",
       "      <td>...</td>\n",
       "      <td>...</td>\n",
       "    </tr>\n",
       "    <tr>\n",
       "      <th>212</th>\n",
       "      <td>Queen of the Capital</td>\n",
       "      <td>Mutiny Pi…</td>\n",
       "      <td>$1,269</td>\n",
       "      <td>$1,269</td>\n",
       "      <td>1</td>\n",
       "    </tr>\n",
       "    <tr>\n",
       "      <th>213</th>\n",
       "      <td>Une sirÃ¨ne Ã Paris</td>\n",
       "      <td>Sony Pict…</td>\n",
       "      <td>$1,202</td>\n",
       "      <td>$1,202</td>\n",
       "      <td>10</td>\n",
       "    </tr>\n",
       "    <tr>\n",
       "      <th>214</th>\n",
       "      <td>Fear PHarm</td>\n",
       "      <td>Indican P…</td>\n",
       "      <td>$1,157</td>\n",
       "      <td>$485</td>\n",
       "      <td>1</td>\n",
       "    </tr>\n",
       "    <tr>\n",
       "      <th>215</th>\n",
       "      <td>Hai Tang Hong</td>\n",
       "      <td>M Star In…</td>\n",
       "      <td>$1,107</td>\n",
       "      <td>$310</td>\n",
       "      <td>30</td>\n",
       "    </tr>\n",
       "    <tr>\n",
       "      <th>216</th>\n",
       "      <td>Last Call</td>\n",
       "      <td>Mutiny Pi…</td>\n",
       "      <td>$478</td>\n",
       "      <td>$478</td>\n",
       "      <td>3</td>\n",
       "    </tr>\n",
       "  </tbody>\n",
       "</table>\n",
       "<p>216 rows × 5 columns</p>\n",
       "</div>"
      ],
      "text/plain": [
       "                                                 Movie   Distributor  \\\n",
       "Rank                                                                   \n",
       "1                                    Bad Boys For Life    Sony Pict…   \n",
       "2                                   Sonic The Hedgehog    Paramount…   \n",
       "3     Birds of Prey (And the Fantabulous Emancipation…  Warner Bros.   \n",
       "4                                             Dolittle     Universal   \n",
       "5                                    The Invisible Man     Universal   \n",
       "...                                                ...           ...   \n",
       "212                               Queen of the Capital    Mutiny Pi…   \n",
       "213                                Une sirÃ¨ne Ã Paris    Sony Pict…   \n",
       "214                                         Fear PHarm    Indican P…   \n",
       "215                                      Hai Tang Hong    M Star In…   \n",
       "216                                          Last Call    Mutiny Pi…   \n",
       "\n",
       "     DomesticBoxOffice OpeningWeekendBox Office  MaxTheaterCount  \n",
       "Rank                                                              \n",
       "1         $204,417,855              $62,504,105             3775  \n",
       "2         $146,066,470              $58,018,348             4198  \n",
       "3          $84,158,461              $33,010,017             4236  \n",
       "4          $77,047,065              $21,844,045             4155  \n",
       "5          $64,914,050              $28,205,665             3636  \n",
       "...                ...                      ...              ...  \n",
       "212             $1,269                   $1,269                1  \n",
       "213             $1,202                   $1,202               10  \n",
       "214             $1,157                     $485                1  \n",
       "215             $1,107                     $310               30  \n",
       "216               $478                     $478                3  \n",
       "\n",
       "[216 rows x 5 columns]"
      ]
     },
     "execution_count": 3,
     "metadata": {},
     "output_type": "execute_result"
    }
   ],
   "source": [
    "#testing above function\n",
    "df = get_top_movies(2020)\n",
    "\n",
    "# good checkpoint to add lines to see what all df is.... will erase this full block when neating up code\n",
    "df.info()\n",
    "df"
   ]
  },
  {
   "cell_type": "code",
   "execution_count": 4,
   "metadata": {},
   "outputs": [
    {
     "data": {
      "text/plain": [
       "Rank\n",
       "1      62504105\n",
       "2      58018348\n",
       "3      33010017\n",
       "4      21844045\n",
       "5      28205665\n",
       "         ...   \n",
       "212        1269\n",
       "213        1202\n",
       "214         485\n",
       "215         310\n",
       "216         478\n",
       "Name: OpeningWeekendBox Office, Length: 216, dtype: object"
      ]
     },
     "execution_count": 4,
     "metadata": {},
     "output_type": "execute_result"
    }
   ],
   "source": [
    "#will put all this into fuction so its more applical to both money columns and also to clean up the code.\n",
    "df['OpeningWeekendBox Office'] = df['OpeningWeekendBox Office'].str.replace(',', '')\n",
    "df['OpeningWeekendBox Office'] = df['OpeningWeekendBox Office'].str.replace('$', '')\n",
    "df['OpeningWeekendBox Office']"
   ]
  },
  {
   "cell_type": "code",
   "execution_count": 5,
   "metadata": {},
   "outputs": [],
   "source": [
    "#\"probably will erase one of these functions..... executive decisions on which is better for plugging into NaN values\"\n",
    "def get_col_mean(col):\n",
    "    #\"drops na to find avg. col is clean pandas str format\"\n",
    "    df1 = col\n",
    "    df1 = df1.dropna()\n",
    "    df1 = df1.astype(int)\n",
    "    \n",
    "    return str(int(df1.mean()))\n",
    "\n",
    "def get_col_median(col):\n",
    "    #\"drops na to find avg. col is clean pandas str format\"\n",
    "    df1 = col\n",
    "    df1 = df1.dropna()\n",
    "    df1 = df1.astype(int)\n",
    "    \n",
    "    return str(int(df1.median()))"
   ]
  },
  {
   "cell_type": "code",
   "execution_count": 6,
   "metadata": {},
   "outputs": [],
   "source": [
    "#still diciding which value to plug into nans with... will erase half this block\n",
    "\n",
    "# replaceing nan values with mean in string format\n",
    "#df['OpeningWeekendBox Office'] = df['OpeningWeekendBox Office'].fillna(get_col_mean(df['OpeningWeekendBox Office']))\n",
    "\n",
    "# replaceing nan values with median in string format\n",
    "df['OpeningWeekendBox Office'] = df['OpeningWeekendBox Office'].fillna(get_col_median(df['OpeningWeekendBox Office']))\n",
    "\n",
    "df['OpeningWeekendBox Office'] = df['OpeningWeekendBox Office'].astype(int)"
   ]
  },
  {
   "cell_type": "code",
   "execution_count": 7,
   "metadata": {},
   "outputs": [
    {
     "name": "stdout",
     "output_type": "stream",
     "text": [
      "mean      2.115051e+06\n",
      "median    2.477300e+04\n",
      "std       7.613589e+06\n",
      "Name: OpeningWeekendBox Office, dtype: float64\n"
     ]
    },
    {
     "data": {
      "text/plain": [
       "<matplotlib.axes._subplots.AxesSubplot at 0x20c991eea90>"
      ]
     },
     "execution_count": 7,
     "metadata": {},
     "output_type": "execute_result"
    },
    {
     "data": {
      "image/png": "[encoded data removed]",
      "text/plain": [
       "<Figure size 432x288 with 1 Axes>"
      ]
     },
     "metadata": {
      "needs_background": "light"
     },
     "output_type": "display_data"
    }
   ],
   "source": [
    "#test two, replacing nan with median\n",
    "#just playing with data, nothing here meaningful at the moment. (trash code)\n",
    "print(df['OpeningWeekendBox Office'].apply(['mean', 'median', 'std']))\n",
    "df['OpeningWeekendBox Office'].hist()"
   ]
  },
  {
   "cell_type": "code",
   "execution_count": 8,
   "metadata": {},
   "outputs": [
    {
     "name": "stdout",
     "output_type": "stream",
     "text": [
      "mean      2.115051e+06\n",
      "median    2.477300e+04\n",
      "std       7.613589e+06\n",
      "Name: OpeningWeekendBox Office, dtype: float64\n"
     ]
    },
    {
     "data": {
      "text/plain": [
       "<matplotlib.axes._subplots.AxesSubplot at 0x20c995a69e8>"
      ]
     },
     "execution_count": 8,
     "metadata": {},
     "output_type": "execute_result"
    },
    {
     "data": {
      "image/png": "[encoded data removed]",
      "text/plain": [
       "<Figure size 432x288 with 1 Axes>"
      ]
     },
     "metadata": {
      "needs_background": "light"
     },
     "output_type": "display_data"
    }
   ],
   "source": [
    "#test one replacing nan with avg\n",
    "#just playing with data, nothing here meaningful at the moment. (trash code)\n",
    "#both charts gonna look the same cause i ran this with same data, so it is the exact same thing... \n",
    "print(df['OpeningWeekendBox Office'].apply(['mean', 'median', 'std']))\n",
    "df['OpeningWeekendBox Office'].hist()"
   ]
  },
  {
   "cell_type": "code",
   "execution_count": 9,
   "metadata": {},
   "outputs": [
    {
     "data": {
      "text/plain": [
       "2115050.787037037"
      ]
     },
     "execution_count": 9,
     "metadata": {},
     "output_type": "execute_result"
    }
   ],
   "source": [
    "df['OpeningWeekendBox Office'].mean()"
   ]
  },
  {
   "cell_type": "code",
   "execution_count": 10,
   "metadata": {},
   "outputs": [
    {
     "data": {
      "text/plain": [
       "<matplotlib.axes._subplots.AxesSubplot at 0x20c995ec588>"
      ]
     },
     "execution_count": 10,
     "metadata": {},
     "output_type": "execute_result"
    },
    {
     "data": {
      "image/png": "[encoded data removed]",
      "text/plain": [
       "<Figure size 1080x720 with 1 Axes>"
      ]
     },
     "metadata": {
      "needs_background": "light"
     },
     "output_type": "display_data"
    }
   ],
   "source": [
    "# once again, just playing with code.... just trash currently\n",
    "\n",
    "# ylim and xlim literally just zooms in on overall chart//// need to break this down /// changing x values should do it\n",
    "\n",
    "fig = plt.figure(figsize = (15,10))\n",
    "ax = fig.gca()\n",
    "df['OpeningWeekendBox Office'].hist(ax = ax)\n"
   ]
  },
  {
   "cell_type": "code",
   "execution_count": 11,
   "metadata": {},
   "outputs": [],
   "source": [
    "def get_keys(path):\n",
    "    #get .json file from local machine\n",
    "    with open(path) as f:\n",
    "        return json.load(f)"
   ]
  },
  {
   "cell_type": "code",
   "execution_count": 12,
   "metadata": {},
   "outputs": [],
   "source": [
    "# need to change to a remote file location. \n",
    "keys = get_keys(\"/Users/Deric/Documents/Flatiron/phase_One/.secret/omdb_api.json\")\n",
    "api_key = keys['api_key']"
   ]
  },
  {
   "cell_type": "code",
   "execution_count": 13,
   "metadata": {},
   "outputs": [],
   "source": [
    "def get_movie_info(title, year, api_key):\n",
    "    #plug in title, year, apikey to return the full api of the selected movie.\n",
    "    #each api request requires the url and the params (at least the title or the movie id)\n",
    "    api_url = \"http://www.omdbapi.com/?apikey={}\".format(api_key)\n",
    "    params = {\n",
    "            't' : title,\n",
    "            'type': 'movie',\n",
    "            'y' : year\n",
    "            }\n",
    "    response = requests.get(api_url, params = params).json()\n",
    "    return response"
   ]
  },
  {
   "cell_type": "code",
   "execution_count": 14,
   "metadata": {},
   "outputs": [
    {
     "data": {
      "text/plain": [
       "{'Title': 'Bad Boys for Life',\n",
       " 'Year': '2020',\n",
       " 'Rated': 'R',\n",
       " 'Released': '17 Jan 2020',\n",
       " 'Runtime': '124 min',\n",
       " 'Genre': 'Action, Comedy, Crime, Thriller',\n",
       " 'Director': 'Adil El Arbi, Bilall Fallah',\n",
       " 'Writer': 'Peter Craig (story by), Joe Carnahan (story by), Chris Bremner (screenplay by), Peter Craig (screenplay by), Joe Carnahan (screenplay by), George Gallo (based on characters created by)',\n",
       " 'Actors': 'Will Smith, Martin Lawrence, Vanessa Hudgens, Alexander Ludwig',\n",
       " 'Plot': 'Miami detectives Mike Lowrey and Marcus Burnett must face off against a mother-and-son pair of drug lords who wreak vengeful havoc on their city.',\n",
       " 'Language': 'English, Spanish',\n",
       " 'Country': 'USA, Mexico',\n",
       " 'Awards': '1 nomination.',\n",
       " 'Poster': 'https://m.media-amazon.com/images/M/MV5BMWU0MGYwZWQtMzcwYS00NWVhLTlkZTAtYWVjOTYwZTBhZTBiXkEyXkFqcGdeQXVyMTkxNjUyNQ@@._V1_SX300.jpg',\n",
       " 'Ratings': [{'Source': 'Internet Movie Database', 'Value': '6.6/10'},\n",
       "  {'Source': 'Rotten Tomatoes', 'Value': '77%'},\n",
       "  {'Source': 'Metacritic', 'Value': '59/100'}],\n",
       " 'Metascore': '59',\n",
       " 'imdbRating': '6.6',\n",
       " 'imdbVotes': '113,988',\n",
       " 'imdbID': 'tt1502397',\n",
       " 'Type': 'movie',\n",
       " 'DVD': 'N/A',\n",
       " 'BoxOffice': 'N/A',\n",
       " 'Production': '2.0 Entertainment, Jerry Bruckheimer Films, Columbia Pictures',\n",
       " 'Website': 'N/A',\n",
       " 'Response': 'True'}"
      ]
     },
     "execution_count": 14,
     "metadata": {},
     "output_type": "execute_result"
    }
   ],
   "source": [
    "#this cell is just testing my function above.\n",
    "title = 'Bad Boys For Life'\n",
    "year = 2020\n",
    "\n",
    "get_movie_info(title, year, api_key)"
   ]
  },
  {
   "cell_type": "markdown",
   "metadata": {},
   "source": [
    "=======================================================\n",
    "\n",
    "1)finish cleaning\n",
    "2)connecting df to api to add the next couple cols(release month, genre)\n",
    "\n",
    "\n",
    "I already cleaned up most of my code.... so please feel free to interject print statements all over to verify and fully understand each bit of code.\n",
    "\n"
   ]
  }
 ],
 "metadata": {
  "kernelspec": {
   "display_name": "Python 3",
   "language": "python",
   "name": "python3"
  },
  "language_info": {
   "codemirror_mode": {
    "name": "ipython",
    "version": 3
   },
   "file_extension": ".py",
   "mimetype": "text/x-python",
   "name": "python",
   "nbconvert_exporter": "python",
   "pygments_lexer": "ipython3",
   "version": "3.6.9"
  }
 },
 "nbformat": 4,
 "nbformat_minor": 4
}
